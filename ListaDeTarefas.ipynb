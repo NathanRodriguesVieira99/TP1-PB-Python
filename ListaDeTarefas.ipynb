{
 "cells": [
  {
   "cell_type": "markdown",
   "id": "9915616e",
   "metadata": {},
   "source": [
    "# TP1 Projeto de bloco Python\n",
    "\n",
    "## 1. Importação dos Módulos\n",
    "Importe as funções dos arquivos `addTask`, `deleteTask`, `listTasks` e a lista compartilhada `tasks`."
   ]
  },
  {
   "cell_type": "code",
   "execution_count": null,
   "id": "3c58c1f4",
   "metadata": {},
   "outputs": [],
   "source": [
    "from addTask import addTask\n",
    "from deleteTask import deleteTask\n",
    "from listTasks import listTasks\n",
    "from tasks import tasks"
   ]
  },
  {
   "cell_type": "markdown",
   "id": "7df30dff",
   "metadata": {},
   "source": [
    "## 2. Adicionar Tarefa\n",
    "Execute a função abaixo para adicionar uma nova tarefa à lista."
   ]
  },
  {
   "cell_type": "code",
   "execution_count": null,
   "id": "d14d84f6",
   "metadata": {},
   "outputs": [],
   "source": [
    "addTask()"
   ]
  },
  {
   "cell_type": "markdown",
   "id": "b25757f0",
   "metadata": {},
   "source": [
    "## 3. Listar Tarefas\n",
    "Execute a função abaixo para exibir todas as tarefas atuais."
   ]
  },
  {
   "cell_type": "code",
   "execution_count": null,
   "id": "6792c0b7",
   "metadata": {},
   "outputs": [],
   "source": [
    "listTasks()"
   ]
  },
  {
   "cell_type": "markdown",
   "id": "934970b4",
   "metadata": {},
   "source": [
    "## 4. Remover Tarefa\n",
    "Execute a função abaixo para remover uma tarefa específica da lista."
   ]
  },
  {
   "cell_type": "code",
   "execution_count": null,
   "id": "b9b0ce49",
   "metadata": {},
   "outputs": [],
   "source": [
    "deleteTask()"
   ]
  },
  {
   "cell_type": "markdown",
   "id": "7ae6fe12",
   "metadata": {},
   "source": [
    "## 5. Executar Loop Principal\n",
    "Implemente o loop principal para interação do usuário, permitindo adicionar, listar e remover tarefas."
   ]
  },
  {
   "cell_type": "code",
   "execution_count": null,
   "id": "4b83733f",
   "metadata": {},
   "outputs": [
    {
     "name": "stdout",
     "output_type": "stream",
     "text": [
      "\n",
      "\n",
      "Minha lista de tarefas\n",
      "----------------------\n",
      "1 - Adicionar uma nova tarefa\n",
      "2 - Remover uma tarefa\n",
      "3 - Listar minhas tarefas\n",
      "4 - Sair\n"
     ]
    }
   ],
   "source": [
    "while True:\n",
    "    print('\\n')\n",
    "    print('Minha lista de tarefas')\n",
    "    print('----------------------')\n",
    "    print('1 - Adicionar uma nova tarefa')\n",
    "    print('2 - Remover uma tarefa')\n",
    "    print('3 - Listar minhas tarefas')\n",
    "    print('4 - Sair')\n",
    "    choice = input('Escolha uma opção: ')\n",
    "    if choice == '1':\n",
    "        addTask()\n",
    "    elif choice == '2':\n",
    "        deleteTask()\n",
    "    elif choice == '3':\n",
    "        listTasks()\n",
    "    elif choice == '4':\n",
    "        break\n",
    "    else:\n",
    "        print('Escolha inválida!')"
   ]
  }
 ],
 "metadata": {
  "kernelspec": {
   "display_name": "Python 3",
   "language": "python",
   "name": "python3"
  },
  "language_info": {
   "codemirror_mode": {
    "name": "ipython",
    "version": 3
   },
   "file_extension": ".py",
   "mimetype": "text/x-python",
   "name": "python",
   "nbconvert_exporter": "python",
   "pygments_lexer": "ipython3",
   "version": "3.13.2"
  }
 },
 "nbformat": 4,
 "nbformat_minor": 5
}
