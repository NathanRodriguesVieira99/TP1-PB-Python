{
  "cells": [
    {
      "cell_type": "markdown",
      "id": "196ba853",
      "metadata": {
        "id": "196ba853"
      },
      "source": [
        "# Arquivos do Projeto\n",
        "- addTask.py\n",
        "- listTasks.py\n",
        "- deleteTask.py\n",
        "- tasks.py\n",
        "- main.py"
      ]
    },
    {
      "cell_type": "code",
      "execution_count": 41,
      "id": "8915a555",
      "metadata": {
        "id": "8915a555"
      },
      "outputs": [],
      "source": [
        "# Código completo do projeto (addTask.py, listTasks.py, deleteTask.py, tasks.py, main.py)\n",
        "tasks = []\n",
        "def addTask():\n",
        "    task = input('Adicione uma tarefa: ')\n",
        "    tasks.append(task)\n",
        "    print(f'Tarefa \"{task}\" foi adicionada a sua lista.')\n",
        "\n",
        "def listTasks():\n",
        "    if not tasks:\n",
        "        print('Não há tarefas.')\n",
        "    else:\n",
        "        print('Minhas Tarefas: ')\n",
        "        for index, task in enumerate(tasks):\n",
        "            print(f'Tarefa #{index}. {task}')\n",
        "            print('-------------')\n",
        "\n",
        "def deleteTask():\n",
        "    if not tasks:\n",
        "        print('Não há tarefas para deletar')\n",
        "        return\n",
        "    listTasks()\n",
        "    try:\n",
        "        taskToDelete = int(input('Digite o número da tarefa para deletar: '))\n",
        "        if 0 <= taskToDelete < len(tasks):\n",
        "            removed = tasks.pop(taskToDelete)\n",
        "            print(f'Tarefa #{removed} foi removida.')\n",
        "        else:\n",
        "            print(f'Tarefa não foi encontrada.')\n",
        "    except:\n",
        "        print('Opcão inválida!')\n",
        "\n",
        "def main():\n",
        "    while True:\n",
        "        print('\\n')\n",
        "        print('Minha lista de tarefas')\n",
        "        print('----------------------')\n",
        "        print('1 - Adicionar uma nova tarefa')\n",
        "        print('2 - Remover uma tarefa')\n",
        "        print('3 - Listar minhas tarefas')\n",
        "        print('4 - Sair')\n",
        "        choice = input('Escolha uma opção: ')\n",
        "        if (choice == '1'):\n",
        "            addTask()\n",
        "        elif (choice == '2'):\n",
        "            deleteTask()\n",
        "        elif (choice == '3'):\n",
        "            listTasks()\n",
        "        elif (choice == '4'):\n",
        "            break\n",
        "        else:\n",
        "            print('Escolha inválida!')"
      ]
    },
    {
      "cell_type": "code",
      "execution_count": null,
      "id": "a089ede2",
      "metadata": {
        "colab": {
          "base_uri": "https://localhost:8080/"
        },
        "id": "a089ede2",
        "outputId": "d7004ea1-d0e5-4ab6-b70a-cfa9ca22fd34"
      },
      "outputs": [
        {
          "output_type": "stream",
          "name": "stdout",
          "text": [
            "\n",
            "\n",
            "Minha lista de tarefas\n",
            "----------------------\n",
            "1 - Adicionar uma nova tarefa\n",
            "2 - Remover uma tarefa\n",
            "3 - Listar minhas tarefas\n",
            "4 - Sair\n",
            "Escolha uma opção: 2\n",
            "Não há tarefas para deletar\n",
            "\n",
            "\n",
            "Minha lista de tarefas\n",
            "----------------------\n",
            "1 - Adicionar uma nova tarefa\n",
            "2 - Remover uma tarefa\n",
            "3 - Listar minhas tarefas\n",
            "4 - Sair\n",
            "Escolha uma opção: 1\n",
            "Adicione uma tarefa: Estudar Python\n",
            "Tarefa \"Estudar Python\" foi adicionada a sua lista.\n",
            "\n",
            "\n",
            "Minha lista de tarefas\n",
            "----------------------\n",
            "1 - Adicionar uma nova tarefa\n",
            "2 - Remover uma tarefa\n",
            "3 - Listar minhas tarefas\n",
            "4 - Sair\n",
            "Escolha uma opção: 3\n",
            "Minhas Tarefas: \n",
            "Tarefa #0. Estudar Python\n",
            "-------------\n",
            "\n",
            "\n",
            "Minha lista de tarefas\n",
            "----------------------\n",
            "1 - Adicionar uma nova tarefa\n",
            "2 - Remover uma tarefa\n",
            "3 - Listar minhas tarefas\n",
            "4 - Sair\n",
            "Escolha uma opção: 2\n",
            "Minhas Tarefas: \n",
            "Tarefa #0. Estudar Python\n",
            "-------------\n",
            "Digite o número da tarefa para deletar: 0\n",
            "Tarefa #Estudar Python foi removida.\n",
            "\n",
            "\n",
            "Minha lista de tarefas\n",
            "----------------------\n",
            "1 - Adicionar uma nova tarefa\n",
            "2 - Remover uma tarefa\n",
            "3 - Listar minhas tarefas\n",
            "4 - Sair\n",
            "Escolha uma opção: 3\n",
            "Não há tarefas.\n",
            "\n",
            "\n",
            "Minha lista de tarefas\n",
            "----------------------\n",
            "1 - Adicionar uma nova tarefa\n",
            "2 - Remover uma tarefa\n",
            "3 - Listar minhas tarefas\n",
            "4 - Sair\n"
          ]
        }
      ],
      "source": [
        "main()"
      ]
    },
    {
      "cell_type": "code",
      "execution_count": null,
      "id": "97d93118",
      "metadata": {
        "id": "97d93118"
      },
      "outputs": [],
      "source": [
        "# Conteúdo de addTask.py\n",
        "from tasks import tasks\n",
        "\n",
        "def addTask():\n",
        "    task = input('Adicione uma tarefa: ')\n",
        "    tasks.append(task)\n",
        "    print(f'Tarefa \"{task}\" foi adicionada a sua lista.')"
      ]
    },
    {
      "cell_type": "code",
      "execution_count": null,
      "id": "109135b1",
      "metadata": {
        "id": "109135b1"
      },
      "outputs": [],
      "source": [
        "# Conteúdo de listTasks.py\n",
        "from tasks import tasks\n",
        "\n",
        "def listTasks():\n",
        "    if not tasks:\n",
        "        print('Não há tarefas.')\n",
        "    else:\n",
        "        print('Minhas Tarefas: ')\n",
        "        for index, task in enumerate(tasks):\n",
        "            print(f'Tarefa #{index}. {task}')\n",
        "            print('-------------')"
      ]
    },
    {
      "cell_type": "code",
      "execution_count": null,
      "id": "91430208",
      "metadata": {
        "id": "91430208"
      },
      "outputs": [],
      "source": [
        "# Conteúdo de deleteTask.py\n",
        "from listTasks import listTasks\n",
        "from tasks import tasks\n",
        "\n",
        "def deleteTask():\n",
        "    if not tasks:\n",
        "        print('Não há tarefas para deletar')\n",
        "        return\n",
        "\n",
        "    listTasks()\n",
        "    try:\n",
        "        taskToDelete = int(input('Digite o número da tarefa para deletar: '))\n",
        "        if 0 <= taskToDelete < len(tasks):\n",
        "            removed = tasks.pop(taskToDelete)\n",
        "            print(f'Tarefa #{removed} foi removida.')\n",
        "        else:\n",
        "            print(f'Tarefa não foi encontrada.')\n",
        "    except:\n",
        "        print('Opcão inválida!')"
      ]
    },
    {
      "cell_type": "code",
      "execution_count": null,
      "id": "801baf21",
      "metadata": {
        "id": "801baf21"
      },
      "outputs": [],
      "source": [
        "# Conteúdo de tasks.py\n",
        "tasks = []"
      ]
    },
    {
      "cell_type": "code",
      "execution_count": null,
      "id": "898d2892",
      "metadata": {
        "id": "898d2892"
      },
      "outputs": [],
      "source": [
        "# Conteúdo de main.py\n",
        "from addTask import addTask\n",
        "from deleteTask import deleteTask\n",
        "from listTasks import listTasks\n",
        "\n",
        "while True:\n",
        "    print('\\n')\n",
        "    print('Minha lista de tarefas')\n",
        "    print('----------------------')\n",
        "    print('1 - Adicionar uma nova tarefa')\n",
        "    print('2 - Remover uma tarefa')\n",
        "    print('3 - Listar minhas tarefas')\n",
        "    print('4 - Sair')\n",
        "\n",
        "    choice = input('Escolha uma opção: ')\n",
        "\n",
        "    if (choice == '1'):\n",
        "        addTask()\n",
        "    elif (choice == '2'):\n",
        "        deleteTask()\n",
        "    elif (choice == '3'):\n",
        "        listTasks()\n",
        "    elif (choice == '4'):\n",
        "        break\n",
        "    else:\n",
        "        print('Escolha inválida!')"
      ]
    }
  ],
  "metadata": {
    "kernelspec": {
      "display_name": "Python 3",
      "language": "python",
      "name": "python3"
    },
    "language_info": {
      "codemirror_mode": {
        "name": "ipython",
        "version": 3
      },
      "file_extension": ".py",
      "mimetype": "text/x-python",
      "name": "python",
      "nbconvert_exporter": "python",
      "pygments_lexer": "ipython3",
      "version": "3.13.2"
    },
    "colab": {
      "provenance": []
    }
  },
  "nbformat": 4,
  "nbformat_minor": 5
}